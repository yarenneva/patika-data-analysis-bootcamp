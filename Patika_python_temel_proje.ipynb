{
  "nbformat": 4,
  "nbformat_minor": 0,
  "metadata": {
    "colab": {
      "provenance": []
    },
    "kernelspec": {
      "name": "python3",
      "display_name": "Python 3"
    },
    "language_info": {
      "name": "python"
    }
  },
  "cells": [
    {
      "cell_type": "markdown",
      "source": [
        "1- Bir listeyi düzleştiren (flatten) fonksiyon yazın. Elemanları birden çok katmanlı listelerden ([[3],2] gibi) oluşabileceği gibi, non-scalar verilerden de oluşabilir. Örnek olarak:"
      ],
      "metadata": {
        "id": "5jd3JwZNM2DK"
      }
    },
    {
      "cell_type": "code",
      "execution_count": 1,
      "metadata": {
        "id": "1TxzM-Q6MXU_"
      },
      "outputs": [],
      "source": [
        "def flatten_list(nested_list):\n",
        "    result = []\n",
        "    for element in nested_list:\n",
        "        if isinstance(element, list):\n",
        "            result.extend(flatten_list(element))\n",
        "        else:\n",
        "            result.append(element)\n",
        "    return result"
      ]
    },
    {
      "cell_type": "code",
      "source": [
        "input_list = [[1, 'a', ['cat'], 2], [[[3]], 'dog'], 4, 5]\n",
        "print(flatten_list(input_list))"
      ],
      "metadata": {
        "colab": {
          "base_uri": "https://localhost:8080/"
        },
        "id": "1nc4Do69MyA7",
        "outputId": "06edd46b-5ff7-41ad-9794-9289a679e6bb"
      },
      "execution_count": 2,
      "outputs": [
        {
          "output_type": "stream",
          "name": "stdout",
          "text": [
            "[1, 'a', 'cat', 2, 3, 'dog', 4, 5]\n"
          ]
        }
      ]
    },
    {
      "cell_type": "markdown",
      "source": [
        "2- Verilen listenin içindeki elemanları tersine döndüren bir fonksiyon yazın. Eğer listenin içindeki elemanlar da liste içeriyorsa onların elemanlarını da tersine döndürün. Örnek olarak:"
      ],
      "metadata": {
        "id": "wE-0xkMvM-qQ"
      }
    },
    {
      "cell_type": "code",
      "source": [
        "def deep_reverse(lst):\n",
        "    reversed_list = []\n",
        "    for item in reversed(lst):\n",
        "        if isinstance(item, list):\n",
        "            reversed_list.append(deep_reverse(item))\n",
        "        else:\n",
        "            reversed_list.append(item)\n",
        "    return reversed_list"
      ],
      "metadata": {
        "id": "64L7jdGUM9lo"
      },
      "execution_count": 3,
      "outputs": []
    },
    {
      "cell_type": "code",
      "source": [
        "input_list = [[1, 2], [3, 4], [5, 6, 7]]\n",
        "output = deep_reverse(input_list)\n",
        "print([output])"
      ],
      "metadata": {
        "colab": {
          "base_uri": "https://localhost:8080/"
        },
        "id": "ozBgfOmbNM2n",
        "outputId": "bb0c5fb3-7b9a-4e03-fbca-43116cc91ec7"
      },
      "execution_count": 4,
      "outputs": [
        {
          "output_type": "stream",
          "name": "stdout",
          "text": [
            "[[[7, 6, 5], [4, 3], [2, 1]]]\n"
          ]
        }
      ]
    }
  ]
}